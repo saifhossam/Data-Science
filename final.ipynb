{
 "cells": [
  {
   "cell_type": "markdown",
   "id": "947e4d8d",
   "metadata": {
    "papermill": {
     "duration": 0.01415,
     "end_time": "2024-08-26T15:13:37.892800",
     "exception": false,
     "start_time": "2024-08-26T15:13:37.878650",
     "status": "completed"
    },
    "tags": []
   },
   "source": [
    "# Importing Libraries"
   ]
  },
  {
   "cell_type": "code",
   "execution_count": 1,
   "id": "62cc5258",
   "metadata": {
    "papermill": {
     "duration": 5.855489,
     "end_time": "2024-08-26T15:13:43.762412",
     "exception": false,
     "start_time": "2024-08-26T15:13:37.906923",
     "status": "completed"
    },
    "tags": []
   },
   "outputs": [],
   "source": [
    "import warnings\n",
    "warnings.filterwarnings('ignore')\n",
    "import numpy as np \n",
    "import pandas as pd\n",
    "from sklearn.metrics import classification_report\n",
    "from sklearn.inspection import permutation_importance\n",
    "import matplotlib.pyplot as plt"
   ]
  },
  {
   "cell_type": "code",
   "execution_count": 2,
   "id": "8e9d38f7",
   "metadata": {
    "papermill": {
     "duration": 1.186696,
     "end_time": "2024-08-26T15:13:44.993978",
     "exception": false,
     "start_time": "2024-08-26T15:13:43.807282",
     "status": "completed"
    },
    "tags": []
   },
   "outputs": [],
   "source": [
    "df=pd.read_csv('diabetic_data.csv')"
   ]
  },
  {
   "cell_type": "code",
   "execution_count": 3,
   "id": "e1e7f625",
   "metadata": {
    "papermill": {
     "duration": 3.493547,
     "end_time": "2024-08-26T15:13:48.548305",
     "exception": false,
     "start_time": "2024-08-26T15:13:45.054758",
     "status": "completed"
    },
    "tags": []
   },
   "outputs": [
    {
     "data": {
      "text/html": [
       "<div>\n",
       "<style scoped>\n",
       "    .dataframe tbody tr th:only-of-type {\n",
       "        vertical-align: middle;\n",
       "    }\n",
       "\n",
       "    .dataframe tbody tr th {\n",
       "        vertical-align: top;\n",
       "    }\n",
       "\n",
       "    .dataframe thead th {\n",
       "        text-align: right;\n",
       "    }\n",
       "</style>\n",
       "<table border=\"1\" class=\"dataframe\">\n",
       "  <thead>\n",
       "    <tr style=\"text-align: right;\">\n",
       "      <th></th>\n",
       "      <th>encounter_id</th>\n",
       "      <th>patient_nbr</th>\n",
       "      <th>race</th>\n",
       "      <th>gender</th>\n",
       "      <th>age</th>\n",
       "      <th>weight</th>\n",
       "      <th>admission_type_id</th>\n",
       "      <th>discharge_disposition_id</th>\n",
       "      <th>admission_source_id</th>\n",
       "      <th>time_in_hospital</th>\n",
       "      <th>...</th>\n",
       "      <th>citoglipton</th>\n",
       "      <th>insulin</th>\n",
       "      <th>glyburide-metformin</th>\n",
       "      <th>glipizide-metformin</th>\n",
       "      <th>glimepiride-pioglitazone</th>\n",
       "      <th>metformin-rosiglitazone</th>\n",
       "      <th>metformin-pioglitazone</th>\n",
       "      <th>change</th>\n",
       "      <th>diabetesMed</th>\n",
       "      <th>readmitted</th>\n",
       "    </tr>\n",
       "  </thead>\n",
       "  <tbody>\n",
       "    <tr>\n",
       "      <th>0</th>\n",
       "      <td>2278392</td>\n",
       "      <td>8222157</td>\n",
       "      <td>Caucasian</td>\n",
       "      <td>Female</td>\n",
       "      <td>[0-10)</td>\n",
       "      <td>?</td>\n",
       "      <td>6</td>\n",
       "      <td>25</td>\n",
       "      <td>1</td>\n",
       "      <td>1</td>\n",
       "      <td>...</td>\n",
       "      <td>No</td>\n",
       "      <td>No</td>\n",
       "      <td>No</td>\n",
       "      <td>No</td>\n",
       "      <td>No</td>\n",
       "      <td>No</td>\n",
       "      <td>No</td>\n",
       "      <td>No</td>\n",
       "      <td>No</td>\n",
       "      <td>NO</td>\n",
       "    </tr>\n",
       "    <tr>\n",
       "      <th>1</th>\n",
       "      <td>149190</td>\n",
       "      <td>55629189</td>\n",
       "      <td>Caucasian</td>\n",
       "      <td>Female</td>\n",
       "      <td>[10-20)</td>\n",
       "      <td>?</td>\n",
       "      <td>1</td>\n",
       "      <td>1</td>\n",
       "      <td>7</td>\n",
       "      <td>3</td>\n",
       "      <td>...</td>\n",
       "      <td>No</td>\n",
       "      <td>Up</td>\n",
       "      <td>No</td>\n",
       "      <td>No</td>\n",
       "      <td>No</td>\n",
       "      <td>No</td>\n",
       "      <td>No</td>\n",
       "      <td>Ch</td>\n",
       "      <td>Yes</td>\n",
       "      <td>&gt;30</td>\n",
       "    </tr>\n",
       "    <tr>\n",
       "      <th>2</th>\n",
       "      <td>64410</td>\n",
       "      <td>86047875</td>\n",
       "      <td>AfricanAmerican</td>\n",
       "      <td>Female</td>\n",
       "      <td>[20-30)</td>\n",
       "      <td>?</td>\n",
       "      <td>1</td>\n",
       "      <td>1</td>\n",
       "      <td>7</td>\n",
       "      <td>2</td>\n",
       "      <td>...</td>\n",
       "      <td>No</td>\n",
       "      <td>No</td>\n",
       "      <td>No</td>\n",
       "      <td>No</td>\n",
       "      <td>No</td>\n",
       "      <td>No</td>\n",
       "      <td>No</td>\n",
       "      <td>No</td>\n",
       "      <td>Yes</td>\n",
       "      <td>NO</td>\n",
       "    </tr>\n",
       "    <tr>\n",
       "      <th>3</th>\n",
       "      <td>500364</td>\n",
       "      <td>82442376</td>\n",
       "      <td>Caucasian</td>\n",
       "      <td>Male</td>\n",
       "      <td>[30-40)</td>\n",
       "      <td>?</td>\n",
       "      <td>1</td>\n",
       "      <td>1</td>\n",
       "      <td>7</td>\n",
       "      <td>2</td>\n",
       "      <td>...</td>\n",
       "      <td>No</td>\n",
       "      <td>Up</td>\n",
       "      <td>No</td>\n",
       "      <td>No</td>\n",
       "      <td>No</td>\n",
       "      <td>No</td>\n",
       "      <td>No</td>\n",
       "      <td>Ch</td>\n",
       "      <td>Yes</td>\n",
       "      <td>NO</td>\n",
       "    </tr>\n",
       "    <tr>\n",
       "      <th>4</th>\n",
       "      <td>16680</td>\n",
       "      <td>42519267</td>\n",
       "      <td>Caucasian</td>\n",
       "      <td>Male</td>\n",
       "      <td>[40-50)</td>\n",
       "      <td>?</td>\n",
       "      <td>1</td>\n",
       "      <td>1</td>\n",
       "      <td>7</td>\n",
       "      <td>1</td>\n",
       "      <td>...</td>\n",
       "      <td>No</td>\n",
       "      <td>Steady</td>\n",
       "      <td>No</td>\n",
       "      <td>No</td>\n",
       "      <td>No</td>\n",
       "      <td>No</td>\n",
       "      <td>No</td>\n",
       "      <td>Ch</td>\n",
       "      <td>Yes</td>\n",
       "      <td>NO</td>\n",
       "    </tr>\n",
       "    <tr>\n",
       "      <th>...</th>\n",
       "      <td>...</td>\n",
       "      <td>...</td>\n",
       "      <td>...</td>\n",
       "      <td>...</td>\n",
       "      <td>...</td>\n",
       "      <td>...</td>\n",
       "      <td>...</td>\n",
       "      <td>...</td>\n",
       "      <td>...</td>\n",
       "      <td>...</td>\n",
       "      <td>...</td>\n",
       "      <td>...</td>\n",
       "      <td>...</td>\n",
       "      <td>...</td>\n",
       "      <td>...</td>\n",
       "      <td>...</td>\n",
       "      <td>...</td>\n",
       "      <td>...</td>\n",
       "      <td>...</td>\n",
       "      <td>...</td>\n",
       "      <td>...</td>\n",
       "    </tr>\n",
       "    <tr>\n",
       "      <th>101761</th>\n",
       "      <td>443847548</td>\n",
       "      <td>100162476</td>\n",
       "      <td>AfricanAmerican</td>\n",
       "      <td>Male</td>\n",
       "      <td>[70-80)</td>\n",
       "      <td>?</td>\n",
       "      <td>1</td>\n",
       "      <td>3</td>\n",
       "      <td>7</td>\n",
       "      <td>3</td>\n",
       "      <td>...</td>\n",
       "      <td>No</td>\n",
       "      <td>Down</td>\n",
       "      <td>No</td>\n",
       "      <td>No</td>\n",
       "      <td>No</td>\n",
       "      <td>No</td>\n",
       "      <td>No</td>\n",
       "      <td>Ch</td>\n",
       "      <td>Yes</td>\n",
       "      <td>&gt;30</td>\n",
       "    </tr>\n",
       "    <tr>\n",
       "      <th>101762</th>\n",
       "      <td>443847782</td>\n",
       "      <td>74694222</td>\n",
       "      <td>AfricanAmerican</td>\n",
       "      <td>Female</td>\n",
       "      <td>[80-90)</td>\n",
       "      <td>?</td>\n",
       "      <td>1</td>\n",
       "      <td>4</td>\n",
       "      <td>5</td>\n",
       "      <td>5</td>\n",
       "      <td>...</td>\n",
       "      <td>No</td>\n",
       "      <td>Steady</td>\n",
       "      <td>No</td>\n",
       "      <td>No</td>\n",
       "      <td>No</td>\n",
       "      <td>No</td>\n",
       "      <td>No</td>\n",
       "      <td>No</td>\n",
       "      <td>Yes</td>\n",
       "      <td>NO</td>\n",
       "    </tr>\n",
       "    <tr>\n",
       "      <th>101763</th>\n",
       "      <td>443854148</td>\n",
       "      <td>41088789</td>\n",
       "      <td>Caucasian</td>\n",
       "      <td>Male</td>\n",
       "      <td>[70-80)</td>\n",
       "      <td>?</td>\n",
       "      <td>1</td>\n",
       "      <td>1</td>\n",
       "      <td>7</td>\n",
       "      <td>1</td>\n",
       "      <td>...</td>\n",
       "      <td>No</td>\n",
       "      <td>Down</td>\n",
       "      <td>No</td>\n",
       "      <td>No</td>\n",
       "      <td>No</td>\n",
       "      <td>No</td>\n",
       "      <td>No</td>\n",
       "      <td>Ch</td>\n",
       "      <td>Yes</td>\n",
       "      <td>NO</td>\n",
       "    </tr>\n",
       "    <tr>\n",
       "      <th>101764</th>\n",
       "      <td>443857166</td>\n",
       "      <td>31693671</td>\n",
       "      <td>Caucasian</td>\n",
       "      <td>Female</td>\n",
       "      <td>[80-90)</td>\n",
       "      <td>?</td>\n",
       "      <td>2</td>\n",
       "      <td>3</td>\n",
       "      <td>7</td>\n",
       "      <td>10</td>\n",
       "      <td>...</td>\n",
       "      <td>No</td>\n",
       "      <td>Up</td>\n",
       "      <td>No</td>\n",
       "      <td>No</td>\n",
       "      <td>No</td>\n",
       "      <td>No</td>\n",
       "      <td>No</td>\n",
       "      <td>Ch</td>\n",
       "      <td>Yes</td>\n",
       "      <td>NO</td>\n",
       "    </tr>\n",
       "    <tr>\n",
       "      <th>101765</th>\n",
       "      <td>443867222</td>\n",
       "      <td>175429310</td>\n",
       "      <td>Caucasian</td>\n",
       "      <td>Male</td>\n",
       "      <td>[70-80)</td>\n",
       "      <td>?</td>\n",
       "      <td>1</td>\n",
       "      <td>1</td>\n",
       "      <td>7</td>\n",
       "      <td>6</td>\n",
       "      <td>...</td>\n",
       "      <td>No</td>\n",
       "      <td>No</td>\n",
       "      <td>No</td>\n",
       "      <td>No</td>\n",
       "      <td>No</td>\n",
       "      <td>No</td>\n",
       "      <td>No</td>\n",
       "      <td>No</td>\n",
       "      <td>No</td>\n",
       "      <td>NO</td>\n",
       "    </tr>\n",
       "  </tbody>\n",
       "</table>\n",
       "<p>101766 rows × 50 columns</p>\n",
       "</div>"
      ],
      "text/plain": [
       "        encounter_id  patient_nbr             race  gender      age weight  \\\n",
       "0            2278392      8222157        Caucasian  Female   [0-10)      ?   \n",
       "1             149190     55629189        Caucasian  Female  [10-20)      ?   \n",
       "2              64410     86047875  AfricanAmerican  Female  [20-30)      ?   \n",
       "3             500364     82442376        Caucasian    Male  [30-40)      ?   \n",
       "4              16680     42519267        Caucasian    Male  [40-50)      ?   \n",
       "...              ...          ...              ...     ...      ...    ...   \n",
       "101761     443847548    100162476  AfricanAmerican    Male  [70-80)      ?   \n",
       "101762     443847782     74694222  AfricanAmerican  Female  [80-90)      ?   \n",
       "101763     443854148     41088789        Caucasian    Male  [70-80)      ?   \n",
       "101764     443857166     31693671        Caucasian  Female  [80-90)      ?   \n",
       "101765     443867222    175429310        Caucasian    Male  [70-80)      ?   \n",
       "\n",
       "        admission_type_id  discharge_disposition_id  admission_source_id  \\\n",
       "0                       6                        25                    1   \n",
       "1                       1                         1                    7   \n",
       "2                       1                         1                    7   \n",
       "3                       1                         1                    7   \n",
       "4                       1                         1                    7   \n",
       "...                   ...                       ...                  ...   \n",
       "101761                  1                         3                    7   \n",
       "101762                  1                         4                    5   \n",
       "101763                  1                         1                    7   \n",
       "101764                  2                         3                    7   \n",
       "101765                  1                         1                    7   \n",
       "\n",
       "        time_in_hospital  ... citoglipton insulin  glyburide-metformin  \\\n",
       "0                      1  ...          No      No                   No   \n",
       "1                      3  ...          No      Up                   No   \n",
       "2                      2  ...          No      No                   No   \n",
       "3                      2  ...          No      Up                   No   \n",
       "4                      1  ...          No  Steady                   No   \n",
       "...                  ...  ...         ...     ...                  ...   \n",
       "101761                 3  ...          No    Down                   No   \n",
       "101762                 5  ...          No  Steady                   No   \n",
       "101763                 1  ...          No    Down                   No   \n",
       "101764                10  ...          No      Up                   No   \n",
       "101765                 6  ...          No      No                   No   \n",
       "\n",
       "        glipizide-metformin  glimepiride-pioglitazone  \\\n",
       "0                        No                        No   \n",
       "1                        No                        No   \n",
       "2                        No                        No   \n",
       "3                        No                        No   \n",
       "4                        No                        No   \n",
       "...                     ...                       ...   \n",
       "101761                   No                        No   \n",
       "101762                   No                        No   \n",
       "101763                   No                        No   \n",
       "101764                   No                        No   \n",
       "101765                   No                        No   \n",
       "\n",
       "        metformin-rosiglitazone  metformin-pioglitazone  change diabetesMed  \\\n",
       "0                            No                      No      No          No   \n",
       "1                            No                      No      Ch         Yes   \n",
       "2                            No                      No      No         Yes   \n",
       "3                            No                      No      Ch         Yes   \n",
       "4                            No                      No      Ch         Yes   \n",
       "...                         ...                     ...     ...         ...   \n",
       "101761                       No                      No      Ch         Yes   \n",
       "101762                       No                      No      No         Yes   \n",
       "101763                       No                      No      Ch         Yes   \n",
       "101764                       No                      No      Ch         Yes   \n",
       "101765                       No                      No      No          No   \n",
       "\n",
       "       readmitted  \n",
       "0              NO  \n",
       "1             >30  \n",
       "2              NO  \n",
       "3              NO  \n",
       "4              NO  \n",
       "...           ...  \n",
       "101761        >30  \n",
       "101762         NO  \n",
       "101763         NO  \n",
       "101764         NO  \n",
       "101765         NO  \n",
       "\n",
       "[101766 rows x 50 columns]"
      ]
     },
     "execution_count": 3,
     "metadata": {},
     "output_type": "execute_result"
    }
   ],
   "source": [
    "df"
   ]
  },
  {
   "cell_type": "markdown",
   "id": "60c5b4c1",
   "metadata": {
    "papermill": {
     "duration": 0.020752,
     "end_time": "2024-08-26T15:13:48.589994",
     "exception": false,
     "start_time": "2024-08-26T15:13:48.569242",
     "status": "completed"
    },
    "tags": []
   },
   "source": [
    "# Handle Missing Values"
   ]
  },
  {
   "cell_type": "code",
   "execution_count": 4,
   "id": "3d976cc9",
   "metadata": {
    "papermill": {
     "duration": 0.073393,
     "end_time": "2024-08-26T15:13:48.684263",
     "exception": false,
     "start_time": "2024-08-26T15:13:48.610870",
     "status": "completed"
    },
    "tags": []
   },
   "outputs": [],
   "source": [
    "# max, weight, citoglipton, medical_specialty and A1Cresult has more than 85% null values so reoving it.\n",
    "# payer_code doesnt affect on the result \n",
    "df.drop(columns=['max_glu_serum','A1Cresult','weight','citoglipton','examide','payer_code','medical_specialty'],inplace=True)"
   ]
  },
  {
   "cell_type": "code",
   "execution_count": 5,
   "id": "bd481551",
   "metadata": {
    "papermill": {
     "duration": 0.052431,
     "end_time": "2024-08-26T15:13:48.757585",
     "exception": false,
     "start_time": "2024-08-26T15:13:48.705154",
     "status": "completed"
    },
    "tags": []
   },
   "outputs": [
    {
     "data": {
      "text/plain": [
       "race\n",
       "Caucasian          76099\n",
       "AfricanAmerican    19210\n",
       "?                   2273\n",
       "Hispanic            2037\n",
       "Other               1506\n",
       "Asian                641\n",
       "Name: count, dtype: int64"
      ]
     },
     "execution_count": 5,
     "metadata": {},
     "output_type": "execute_result"
    }
   ],
   "source": [
    "df['race'].value_counts()"
   ]
  },
  {
   "cell_type": "code",
   "execution_count": 6,
   "id": "323fcfac",
   "metadata": {
    "papermill": {
     "duration": 0.062821,
     "end_time": "2024-08-26T15:13:48.841780",
     "exception": false,
     "start_time": "2024-08-26T15:13:48.778959",
     "status": "completed"
    },
    "tags": []
   },
   "outputs": [],
   "source": [
    "# replace any occurrences of '?' in the 'race' column with 'Other'.\n",
    "df['race'] = df['race'].apply(lambda x: 'Other' if x == '?' else x)"
   ]
  },
  {
   "cell_type": "code",
   "execution_count": 7,
   "id": "875747d8",
   "metadata": {
    "papermill": {
     "duration": 0.154525,
     "end_time": "2024-08-26T15:13:49.017361",
     "exception": false,
     "start_time": "2024-08-26T15:13:48.862836",
     "status": "completed"
    },
    "tags": []
   },
   "outputs": [],
   "source": [
    "# removing rows with unkown gender type\n",
    "df.drop(index=[30506, 75551, 82573],inplace=True)"
   ]
  },
  {
   "cell_type": "code",
   "execution_count": 8,
   "id": "5ed053e7",
   "metadata": {
    "papermill": {
     "duration": 0.101049,
     "end_time": "2024-08-26T15:13:49.139774",
     "exception": false,
     "start_time": "2024-08-26T15:13:49.038725",
     "status": "completed"
    },
    "tags": []
   },
   "outputs": [],
   "source": [
    "# removing null values from diag_1,2 and 3.\n",
    "index=[]\n",
    "index=list(df[df['diag_1']=='?'].index)\n",
    "index.extend(df[df['diag_2']=='?'].index)\n",
    "index.extend(df[df['diag_3']=='?'].index)"
   ]
  },
  {
   "cell_type": "code",
   "execution_count": 9,
   "id": "38f5809e",
   "metadata": {
    "papermill": {
     "duration": 0.084841,
     "end_time": "2024-08-26T15:13:49.245785",
     "exception": false,
     "start_time": "2024-08-26T15:13:49.160944",
     "status": "completed"
    },
    "tags": []
   },
   "outputs": [],
   "source": [
    "df.drop(index=index,inplace=True)"
   ]
  },
  {
   "cell_type": "markdown",
   "id": "77c0562b",
   "metadata": {
    "papermill": {
     "duration": 0.020993,
     "end_time": "2024-08-26T15:13:49.289271",
     "exception": false,
     "start_time": "2024-08-26T15:13:49.268278",
     "status": "completed"
    },
    "tags": []
   },
   "source": [
    "# Features Importance"
   ]
  },
  {
   "cell_type": "code",
   "execution_count": 10,
   "id": "8b8ace6d",
   "metadata": {
    "papermill": {
     "duration": 0.03266,
     "end_time": "2024-08-26T15:13:49.343095",
     "exception": false,
     "start_time": "2024-08-26T15:13:49.310435",
     "status": "completed"
    },
    "tags": []
   },
   "outputs": [],
   "source": [
    "def replace_age_ranges(feature):\n",
    "  age_ranges = ['[0-10)', '[10-20)', '[20-30)', '[30-40)', '[40-50)', '[50-60)','[60-70)', '[70-80)', '[80-90)', '[90-100)']\n",
    "  values = [1, 2, 3, 4, 5, 6, 7, 8, 9, 10]\n",
    "  \n",
    "  # The function iterates through the age_ranges and replaces each occurrence in the 'feature' with the corresponding numerical value.\n",
    "  for i, age_range in enumerate(age_ranges):\n",
    "    feature = feature.replace(age_range, values[i])\n",
    "\n",
    "  return feature"
   ]
  },
  {
   "cell_type": "code",
   "execution_count": 11,
   "id": "c5a967fd",
   "metadata": {
    "papermill": {
     "duration": 0.273675,
     "end_time": "2024-08-26T15:13:49.648183",
     "exception": false,
     "start_time": "2024-08-26T15:13:49.374508",
     "status": "completed"
    },
    "tags": []
   },
   "outputs": [],
   "source": [
    "df['age']=replace_age_ranges(df['age'])"
   ]
  },
  {
   "cell_type": "code",
   "execution_count": 12,
   "id": "90d7cb88-ac43-4871-8868-6c4cba1b41ae",
   "metadata": {
    "papermill": {
     "duration": 0.181643,
     "end_time": "2024-08-26T15:13:52.155152",
     "exception": false,
     "start_time": "2024-08-26T15:13:51.973509",
     "status": "completed"
    },
    "tags": []
   },
   "outputs": [],
   "source": [
    "# It iterates through each value in the 'col' column of the DataFrame 'df' and assigns a cluster value based on certain conditions.\n",
    "\n",
    "def map_icd9_to_cluster(value):\n",
    "    if 'V' in value or 'E' in value:\n",
    "        return 18\n",
    "    try:\n",
    "        value = float(value)\n",
    "        if 1 <= value <= 139:\n",
    "            return 1\n",
    "        elif 140 <= value <= 239:\n",
    "            return 2\n",
    "        elif 240 <= value <= 279:\n",
    "            return 3\n",
    "        elif 280 <= value <= 289:\n",
    "            return 4\n",
    "        elif 290 <= value <= 319:\n",
    "            return 5\n",
    "        elif 320 <= value <= 389:\n",
    "            return 6\n",
    "        elif 390 <= value <= 459:\n",
    "            return 7\n",
    "        elif 460 <= value <= 519:\n",
    "            return 8\n",
    "        elif 520 <= value <= 579:\n",
    "            return 9\n",
    "        elif 580 <= value <= 629:\n",
    "            return 10\n",
    "        elif 630 <= value <= 679:\n",
    "            return 11\n",
    "        elif 680 <= value <= 709:\n",
    "            return 12\n",
    "        elif 710 <= value <= 739:\n",
    "            return 13\n",
    "        elif 740 <= value <= 759:\n",
    "            return 14\n",
    "        elif 760 <= value <= 779:\n",
    "            return 15\n",
    "        elif 780 <= value <= 799:\n",
    "            return 16\n",
    "        elif 800 <= value <= 999:\n",
    "            return 17\n",
    "    except ValueError:\n",
    "        # Return NaN for invalid values\n",
    "        return np.nan"
   ]
  },
  {
   "cell_type": "code",
   "execution_count": 13,
   "id": "6df557d2-6771-4fc4-8a94-6e6a402c5e7b",
   "metadata": {
    "papermill": {
     "duration": 0.181643,
     "end_time": "2024-08-26T15:13:52.155152",
     "exception": false,
     "start_time": "2024-08-26T15:13:51.973509",
     "status": "completed"
    },
    "tags": []
   },
   "outputs": [],
   "source": [
    "# Apply the function to each column using vectorized operations\n",
    "for col in ['diag_1', 'diag_2', 'diag_3']:\n",
    "    df[col] = df[col].apply(map_icd9_to_cluster)"
   ]
  },
  {
   "cell_type": "code",
   "execution_count": 14,
   "id": "a6b87326",
   "metadata": {
    "papermill": {
     "duration": 0.069513,
     "end_time": "2024-08-26T15:13:52.245839",
     "exception": false,
     "start_time": "2024-08-26T15:13:52.176326",
     "status": "completed"
    },
    "tags": []
   },
   "outputs": [],
   "source": [
    "df['change']=df['change'].apply(lambda x: 'Yes' if x=='Ch' else x)\n",
    "df['change']=df['change'].apply(lambda x: 0 if x=='No' else 1)"
   ]
  },
  {
   "cell_type": "markdown",
   "id": "dc9997f1",
   "metadata": {
    "papermill": {
     "duration": 0.022622,
     "end_time": "2024-08-26T15:13:52.289998",
     "exception": false,
     "start_time": "2024-08-26T15:13:52.267376",
     "status": "completed"
    },
    "tags": []
   },
   "source": [
    "# Encoding Categorical Features"
   ]
  },
  {
   "cell_type": "code",
   "execution_count": 15,
   "id": "d7ebb2bd",
   "metadata": {
    "papermill": {
     "duration": 1.660999,
     "end_time": "2024-08-26T15:13:53.972893",
     "exception": false,
     "start_time": "2024-08-26T15:13:52.311894",
     "status": "completed"
    },
    "tags": []
   },
   "outputs": [],
   "source": [
    "# Iterating through each medicine column and converting 'No' to 0 and other values to 1.\n",
    "medicines = ['metformin', 'repaglinide', 'nateglinide', 'chlorpropamide', 'glimepiride', 'acetohexamide', 'glipizide', 'glyburide', 'tolbutamide', 'pioglitazone', 'rosiglitazone', 'acarbose', 'miglitol', 'troglitazone', 'tolazamide', 'insulin', 'glyburide-metformin', 'glipizide-metformin', 'glimepiride-pioglitazone', 'metformin-rosiglitazone', 'metformin-pioglitazone']\n",
    "\n",
    "for col in medicines:\n",
    "    df[col] = df[col].apply(lambda x: 0 if x == 'No' else 1)"
   ]
  },
  {
   "cell_type": "code",
   "execution_count": 16,
   "id": "608435f6",
   "metadata": {
    "papermill": {
     "duration": 0.115995,
     "end_time": "2024-08-26T15:13:54.116811",
     "exception": false,
     "start_time": "2024-08-26T15:13:54.000816",
     "status": "completed"
    },
    "tags": []
   },
   "outputs": [],
   "source": [
    "df['gender']=df['gender'].apply(lambda x: 0 if x=='Female' else 1)"
   ]
  },
  {
   "cell_type": "code",
   "execution_count": 17,
   "id": "a5497efa",
   "metadata": {
    "papermill": {
     "duration": 0.202628,
     "end_time": "2024-08-26T15:13:54.345343",
     "exception": false,
     "start_time": "2024-08-26T15:13:54.142715",
     "status": "completed"
    },
    "tags": []
   },
   "outputs": [],
   "source": [
    "df['diabetesMed']=df['diabetesMed'].apply(lambda x : 0 if x=='No' else 1)"
   ]
  },
  {
   "cell_type": "code",
   "execution_count": 18,
   "id": "1a4c5443",
   "metadata": {
    "papermill": {
     "duration": 0.124699,
     "end_time": "2024-08-26T15:13:54.496751",
     "exception": false,
     "start_time": "2024-08-26T15:13:54.372052",
     "status": "completed"
    },
    "tags": []
   },
   "outputs": [],
   "source": [
    "df['readmitted']=df['readmitted'].apply(lambda x : 1 if x=='<30' else 0)"
   ]
  },
  {
   "cell_type": "code",
   "execution_count": 19,
   "id": "5d693d9c",
   "metadata": {
    "papermill": {
     "duration": 0.060644,
     "end_time": "2024-08-26T15:13:54.579030",
     "exception": false,
     "start_time": "2024-08-26T15:13:54.518386",
     "status": "completed"
    },
    "tags": []
   },
   "outputs": [],
   "source": [
    "# we have found that there are many entries of some users in dataset it will make our ML algorithm biased so removing them.\n",
    "df.drop_duplicates(subset='patient_nbr',keep='first',inplace=True)"
   ]
  },
  {
   "cell_type": "code",
   "execution_count": 20,
   "id": "ec9cbb15",
   "metadata": {
    "papermill": {
     "duration": 0.04383,
     "end_time": "2024-08-26T15:13:54.644138",
     "exception": false,
     "start_time": "2024-08-26T15:13:54.600308",
     "status": "completed"
    },
    "tags": []
   },
   "outputs": [],
   "source": [
    "df.drop(columns=['encounter_id','patient_nbr'],inplace=True)"
   ]
  },
  {
   "cell_type": "code",
   "execution_count": 21,
   "id": "bc0ba572",
   "metadata": {
    "papermill": {
     "duration": 0.063268,
     "end_time": "2024-08-26T15:13:54.732184",
     "exception": false,
     "start_time": "2024-08-26T15:13:54.668916",
     "status": "completed"
    },
    "tags": []
   },
   "outputs": [],
   "source": [
    "# used label encoder for race feature.\n",
    "from sklearn.preprocessing import LabelEncoder\n",
    "encoder=LabelEncoder()\n",
    "df['race']=encoder.fit_transform(df['race'])"
   ]
  },
  {
   "cell_type": "code",
   "execution_count": 22,
   "id": "b32b5b81",
   "metadata": {
    "papermill": {
     "duration": 0.032247,
     "end_time": "2024-08-26T15:13:54.785508",
     "exception": false,
     "start_time": "2024-08-26T15:13:54.753261",
     "status": "completed"
    },
    "tags": []
   },
   "outputs": [
    {
     "data": {
      "text/plain": [
       "(70413, 41)"
      ]
     },
     "execution_count": 22,
     "metadata": {},
     "output_type": "execute_result"
    }
   ],
   "source": [
    "df.shape"
   ]
  },
  {
   "cell_type": "code",
   "execution_count": 23,
   "id": "f0206481-ff00-482d-bb0a-05fdb85e680a",
   "metadata": {},
   "outputs": [
    {
     "data": {
      "text/plain": [
       "readmitted\n",
       "0    64163\n",
       "1     6250\n",
       "Name: count, dtype: int64"
      ]
     },
     "execution_count": 23,
     "metadata": {},
     "output_type": "execute_result"
    }
   ],
   "source": [
    "df['readmitted'].value_counts()"
   ]
  },
  {
   "cell_type": "code",
   "execution_count": 24,
   "id": "e7916932-b17b-4b5c-80e8-dcb9d369927e",
   "metadata": {},
   "outputs": [
    {
     "data": {
      "text/html": [
       "<div>\n",
       "<style scoped>\n",
       "    .dataframe tbody tr th:only-of-type {\n",
       "        vertical-align: middle;\n",
       "    }\n",
       "\n",
       "    .dataframe tbody tr th {\n",
       "        vertical-align: top;\n",
       "    }\n",
       "\n",
       "    .dataframe thead th {\n",
       "        text-align: right;\n",
       "    }\n",
       "</style>\n",
       "<table border=\"1\" class=\"dataframe\">\n",
       "  <thead>\n",
       "    <tr style=\"text-align: right;\">\n",
       "      <th></th>\n",
       "      <th>race</th>\n",
       "      <th>gender</th>\n",
       "      <th>age</th>\n",
       "      <th>admission_type_id</th>\n",
       "      <th>discharge_disposition_id</th>\n",
       "      <th>admission_source_id</th>\n",
       "      <th>time_in_hospital</th>\n",
       "      <th>num_lab_procedures</th>\n",
       "      <th>num_procedures</th>\n",
       "      <th>num_medications</th>\n",
       "      <th>...</th>\n",
       "      <th>troglitazone</th>\n",
       "      <th>tolazamide</th>\n",
       "      <th>insulin</th>\n",
       "      <th>glyburide-metformin</th>\n",
       "      <th>glipizide-metformin</th>\n",
       "      <th>glimepiride-pioglitazone</th>\n",
       "      <th>metformin-rosiglitazone</th>\n",
       "      <th>metformin-pioglitazone</th>\n",
       "      <th>change</th>\n",
       "      <th>diabetesMed</th>\n",
       "    </tr>\n",
       "  </thead>\n",
       "  <tbody>\n",
       "    <tr>\n",
       "      <th>101758</th>\n",
       "      <td>2</td>\n",
       "      <td>0</td>\n",
       "      <td>9</td>\n",
       "      <td>1</td>\n",
       "      <td>1</td>\n",
       "      <td>7</td>\n",
       "      <td>5</td>\n",
       "      <td>76</td>\n",
       "      <td>1</td>\n",
       "      <td>22</td>\n",
       "      <td>...</td>\n",
       "      <td>0</td>\n",
       "      <td>0</td>\n",
       "      <td>1</td>\n",
       "      <td>0</td>\n",
       "      <td>0</td>\n",
       "      <td>0</td>\n",
       "      <td>0</td>\n",
       "      <td>0</td>\n",
       "      <td>1</td>\n",
       "      <td>1</td>\n",
       "    </tr>\n",
       "    <tr>\n",
       "      <th>101765</th>\n",
       "      <td>2</td>\n",
       "      <td>1</td>\n",
       "      <td>8</td>\n",
       "      <td>1</td>\n",
       "      <td>1</td>\n",
       "      <td>7</td>\n",
       "      <td>6</td>\n",
       "      <td>13</td>\n",
       "      <td>3</td>\n",
       "      <td>3</td>\n",
       "      <td>...</td>\n",
       "      <td>0</td>\n",
       "      <td>0</td>\n",
       "      <td>0</td>\n",
       "      <td>0</td>\n",
       "      <td>0</td>\n",
       "      <td>0</td>\n",
       "      <td>0</td>\n",
       "      <td>0</td>\n",
       "      <td>0</td>\n",
       "      <td>0</td>\n",
       "    </tr>\n",
       "  </tbody>\n",
       "</table>\n",
       "<p>2 rows × 40 columns</p>\n",
       "</div>"
      ],
      "text/plain": [
       "        race  gender  age  admission_type_id  discharge_disposition_id  \\\n",
       "101758     2       0    9                  1                         1   \n",
       "101765     2       1    8                  1                         1   \n",
       "\n",
       "        admission_source_id  time_in_hospital  num_lab_procedures  \\\n",
       "101758                    7                 5                  76   \n",
       "101765                    7                 6                  13   \n",
       "\n",
       "        num_procedures  num_medications  ...  troglitazone  tolazamide  \\\n",
       "101758               1               22  ...             0           0   \n",
       "101765               3                3  ...             0           0   \n",
       "\n",
       "        insulin  glyburide-metformin  glipizide-metformin  \\\n",
       "101758        1                    0                    0   \n",
       "101765        0                    0                    0   \n",
       "\n",
       "        glimepiride-pioglitazone  metformin-rosiglitazone  \\\n",
       "101758                         0                        0   \n",
       "101765                         0                        0   \n",
       "\n",
       "        metformin-pioglitazone  change  diabetesMed  \n",
       "101758                       0       1            1  \n",
       "101765                       0       0            0  \n",
       "\n",
       "[2 rows x 40 columns]"
      ]
     },
     "execution_count": 24,
     "metadata": {},
     "output_type": "execute_result"
    }
   ],
   "source": [
    "unseen_data = df.iloc[-2:].copy()\n",
    "df = df.iloc[:-2].reset_index(drop=True)\n",
    "unseen_data = unseen_data.drop(columns=['readmitted'])\n",
    "unseen_data"
   ]
  },
  {
   "cell_type": "markdown",
   "id": "5d89d909",
   "metadata": {
    "papermill": {
     "duration": 0.020947,
     "end_time": "2024-08-26T15:13:54.828007",
     "exception": false,
     "start_time": "2024-08-26T15:13:54.807060",
     "status": "completed"
    },
    "tags": []
   },
   "source": [
    "# Model Building"
   ]
  },
  {
   "cell_type": "code",
   "execution_count": 25,
   "id": "d285b566",
   "metadata": {
    "papermill": {
     "duration": 0.031776,
     "end_time": "2024-08-26T15:13:54.880967",
     "exception": false,
     "start_time": "2024-08-26T15:13:54.849191",
     "status": "completed"
    },
    "tags": []
   },
   "outputs": [],
   "source": [
    "X=df.drop(columns='readmitted')\n",
    "y=df['readmitted']"
   ]
  },
  {
   "cell_type": "code",
   "execution_count": 26,
   "id": "a3b5124b",
   "metadata": {
    "papermill": {
     "duration": 0.062517,
     "end_time": "2024-08-26T15:13:55.025904",
     "exception": false,
     "start_time": "2024-08-26T15:13:54.963387",
     "status": "completed"
    },
    "tags": []
   },
   "outputs": [],
   "source": [
    "from sklearn.model_selection import train_test_split\n",
    "X_train, X_test, y_train, y_test = train_test_split(X, y, test_size=0.25, random_state=42)"
   ]
  },
  {
   "cell_type": "code",
   "execution_count": 27,
   "id": "31ed13e7",
   "metadata": {
    "papermill": {
     "duration": 101.669505,
     "end_time": "2024-08-26T15:15:36.716791",
     "exception": false,
     "start_time": "2024-08-26T15:13:55.047286",
     "status": "completed"
    },
    "tags": []
   },
   "outputs": [
    {
     "name": "stdout",
     "output_type": "stream",
     "text": [
      "CPU times: total: 1min 52s\n",
      "Wall time: 1min 54s\n"
     ]
    }
   ],
   "source": [
    "%%time\n",
    "from imblearn.over_sampling import SMOTEN\n",
    "sm=SMOTEN(sampling_strategy='minority',random_state=42,n_jobs=-1)\n",
    "X_res, y_res = sm.fit_resample(X_train, y_train)"
   ]
  },
  {
   "cell_type": "code",
   "execution_count": 42,
   "id": "4e3bb1d8-0cb8-4a08-ac27-bef6308aafc8",
   "metadata": {},
   "outputs": [],
   "source": [
    "import tensorflow as tf\n",
    "\n",
    "class CustomInitializer(tf.keras.initializers.Initializer):\n",
    "    def __init__(self, mean=0.0, stddev=0.05): # Default Initialization\n",
    "        self.mean = mean\n",
    "        self.stddev = stddev\n",
    "\n",
    "    def __call__(self, shape, dtype=None):\n",
    "        return tf.random.normal(shape, mean=self.mean, stddev=self.stddev, dtype=dtype)\n",
    "\n",
    "    def get_config(self):  # To support serialization\n",
    "        return {\"mean\": self.mean, \"stddev\": self.stddev}"
   ]
  },
  {
   "cell_type": "code",
   "execution_count": 49,
   "id": "206e721f-00c3-43d4-a3f1-a785350604df",
   "metadata": {
    "papermill": {
     "duration": 626.836111,
     "end_time": "2024-08-26T15:26:22.661749",
     "exception": false,
     "start_time": "2024-08-26T15:15:55.825638",
     "status": "completed"
    },
    "tags": []
   },
   "outputs": [
    {
     "name": "stdout",
     "output_type": "stream",
     "text": [
      "Epoch 1/100\n",
      "\u001b[1m565/565\u001b[0m \u001b[32m━━━━━━━━━━━━━━━━━━━━\u001b[0m\u001b[37m\u001b[0m \u001b[1m3s\u001b[0m 2ms/step - acc: 0.6607 - loss: 0.6747 - val_acc: 0.0000e+00 - val_loss: 1.0614\n",
      "Epoch 2/100\n",
      "\u001b[1m565/565\u001b[0m \u001b[32m━━━━━━━━━━━━━━━━━━━━\u001b[0m\u001b[37m\u001b[0m \u001b[1m1s\u001b[0m 2ms/step - acc: 0.6823 - loss: 0.6043 - val_acc: 0.4730 - val_loss: 0.8028\n",
      "Epoch 3/100\n",
      "\u001b[1m565/565\u001b[0m \u001b[32m━━━━━━━━━━━━━━━━━━━━\u001b[0m\u001b[37m\u001b[0m \u001b[1m1s\u001b[0m 2ms/step - acc: 0.7441 - loss: 0.5385 - val_acc: 0.6150 - val_loss: 0.6897\n",
      "Epoch 4/100\n",
      "\u001b[1m565/565\u001b[0m \u001b[32m━━━━━━━━━━━━━━━━━━━━\u001b[0m\u001b[37m\u001b[0m \u001b[1m1s\u001b[0m 2ms/step - acc: 0.7620 - loss: 0.5179 - val_acc: 0.6194 - val_loss: 0.6848\n",
      "Epoch 5/100\n",
      "\u001b[1m565/565\u001b[0m \u001b[32m━━━━━━━━━━━━━━━━━━━━\u001b[0m\u001b[37m\u001b[0m \u001b[1m1s\u001b[0m 2ms/step - acc: 0.7702 - loss: 0.5070 - val_acc: 0.6526 - val_loss: 0.6443\n",
      "Epoch 6/100\n",
      "\u001b[1m565/565\u001b[0m \u001b[32m━━━━━━━━━━━━━━━━━━━━\u001b[0m\u001b[37m\u001b[0m \u001b[1m1s\u001b[0m 2ms/step - acc: 0.7729 - loss: 0.5023 - val_acc: 0.6608 - val_loss: 0.6379\n",
      "Epoch 7/100\n",
      "\u001b[1m565/565\u001b[0m \u001b[32m━━━━━━━━━━━━━━━━━━━━\u001b[0m\u001b[37m\u001b[0m \u001b[1m1s\u001b[0m 2ms/step - acc: 0.7794 - loss: 0.4925 - val_acc: 0.6326 - val_loss: 0.6674\n",
      "Epoch 8/100\n",
      "\u001b[1m565/565\u001b[0m \u001b[32m━━━━━━━━━━━━━━━━━━━━\u001b[0m\u001b[37m\u001b[0m \u001b[1m1s\u001b[0m 2ms/step - acc: 0.7810 - loss: 0.4892 - val_acc: 0.6828 - val_loss: 0.6080\n",
      "Epoch 9/100\n",
      "\u001b[1m565/565\u001b[0m \u001b[32m━━━━━━━━━━━━━━━━━━━━\u001b[0m\u001b[37m\u001b[0m \u001b[1m1s\u001b[0m 2ms/step - acc: 0.7837 - loss: 0.4849 - val_acc: 0.6533 - val_loss: 0.6429\n",
      "Epoch 10/100\n",
      "\u001b[1m565/565\u001b[0m \u001b[32m━━━━━━━━━━━━━━━━━━━━\u001b[0m\u001b[37m\u001b[0m \u001b[1m1s\u001b[0m 2ms/step - acc: 0.7864 - loss: 0.4827 - val_acc: 0.6607 - val_loss: 0.6344\n",
      "Epoch 11/100\n",
      "\u001b[1m565/565\u001b[0m \u001b[32m━━━━━━━━━━━━━━━━━━━━\u001b[0m\u001b[37m\u001b[0m \u001b[1m1s\u001b[0m 2ms/step - acc: 0.7882 - loss: 0.4793 - val_acc: 0.7009 - val_loss: 0.5808\n",
      "Epoch 12/100\n",
      "\u001b[1m565/565\u001b[0m \u001b[32m━━━━━━━━━━━━━━━━━━━━\u001b[0m\u001b[37m\u001b[0m \u001b[1m1s\u001b[0m 2ms/step - acc: 0.7940 - loss: 0.4718 - val_acc: 0.6827 - val_loss: 0.6065\n",
      "Epoch 13/100\n",
      "\u001b[1m565/565\u001b[0m \u001b[32m━━━━━━━━━━━━━━━━━━━━\u001b[0m\u001b[37m\u001b[0m \u001b[1m1s\u001b[0m 2ms/step - acc: 0.7944 - loss: 0.4698 - val_acc: 0.7425 - val_loss: 0.5196\n",
      "Epoch 14/100\n",
      "\u001b[1m565/565\u001b[0m \u001b[32m━━━━━━━━━━━━━━━━━━━━\u001b[0m\u001b[37m\u001b[0m \u001b[1m1s\u001b[0m 2ms/step - acc: 0.7975 - loss: 0.4660 - val_acc: 0.6852 - val_loss: 0.6009\n",
      "Epoch 15/100\n",
      "\u001b[1m565/565\u001b[0m \u001b[32m━━━━━━━━━━━━━━━━━━━━\u001b[0m\u001b[37m\u001b[0m \u001b[1m1s\u001b[0m 2ms/step - acc: 0.7989 - loss: 0.4629 - val_acc: 0.6874 - val_loss: 0.5924\n",
      "Epoch 16/100\n",
      "\u001b[1m565/565\u001b[0m \u001b[32m━━━━━━━━━━━━━━━━━━━━\u001b[0m\u001b[37m\u001b[0m \u001b[1m1s\u001b[0m 2ms/step - acc: 0.8026 - loss: 0.4560 - val_acc: 0.7469 - val_loss: 0.5043\n",
      "Epoch 17/100\n",
      "\u001b[1m565/565\u001b[0m \u001b[32m━━━━━━━━━━━━━━━━━━━━\u001b[0m\u001b[37m\u001b[0m \u001b[1m1s\u001b[0m 2ms/step - acc: 0.8053 - loss: 0.4521 - val_acc: 0.6917 - val_loss: 0.5701\n",
      "Epoch 18/100\n",
      "\u001b[1m565/565\u001b[0m \u001b[32m━━━━━━━━━━━━━━━━━━━━\u001b[0m\u001b[37m\u001b[0m \u001b[1m1s\u001b[0m 2ms/step - acc: 0.8033 - loss: 0.4536 - val_acc: 0.7321 - val_loss: 0.5177\n",
      "Epoch 19/100\n",
      "\u001b[1m565/565\u001b[0m \u001b[32m━━━━━━━━━━━━━━━━━━━━\u001b[0m\u001b[37m\u001b[0m \u001b[1m1s\u001b[0m 2ms/step - acc: 0.8058 - loss: 0.4471 - val_acc: 0.6861 - val_loss: 0.5766\n",
      "Epoch 20/100\n",
      "\u001b[1m565/565\u001b[0m \u001b[32m━━━━━━━━━━━━━━━━━━━━\u001b[0m\u001b[37m\u001b[0m \u001b[1m1s\u001b[0m 2ms/step - acc: 0.8060 - loss: 0.4482 - val_acc: 0.7455 - val_loss: 0.4946\n",
      "Epoch 21/100\n",
      "\u001b[1m565/565\u001b[0m \u001b[32m━━━━━━━━━━━━━━━━━━━━\u001b[0m\u001b[37m\u001b[0m \u001b[1m1s\u001b[0m 2ms/step - acc: 0.8047 - loss: 0.4473 - val_acc: 0.7663 - val_loss: 0.4660\n",
      "Epoch 22/100\n",
      "\u001b[1m565/565\u001b[0m \u001b[32m━━━━━━━━━━━━━━━━━━━━\u001b[0m\u001b[37m\u001b[0m \u001b[1m1s\u001b[0m 2ms/step - acc: 0.8090 - loss: 0.4440 - val_acc: 0.7427 - val_loss: 0.4908\n",
      "Epoch 23/100\n",
      "\u001b[1m565/565\u001b[0m \u001b[32m━━━━━━━━━━━━━━━━━━━━\u001b[0m\u001b[37m\u001b[0m \u001b[1m1s\u001b[0m 2ms/step - acc: 0.8088 - loss: 0.4387 - val_acc: 0.7460 - val_loss: 0.4825\n",
      "Epoch 24/100\n",
      "\u001b[1m565/565\u001b[0m \u001b[32m━━━━━━━━━━━━━━━━━━━━\u001b[0m\u001b[37m\u001b[0m \u001b[1m1s\u001b[0m 2ms/step - acc: 0.8099 - loss: 0.4411 - val_acc: 0.7031 - val_loss: 0.5393\n",
      "Epoch 25/100\n",
      "\u001b[1m565/565\u001b[0m \u001b[32m━━━━━━━━━━━━━━━━━━━━\u001b[0m\u001b[37m\u001b[0m \u001b[1m1s\u001b[0m 2ms/step - acc: 0.8081 - loss: 0.4421 - val_acc: 0.7393 - val_loss: 0.4924\n",
      "Epoch 26/100\n",
      "\u001b[1m565/565\u001b[0m \u001b[32m━━━━━━━━━━━━━━━━━━━━\u001b[0m\u001b[37m\u001b[0m \u001b[1m1s\u001b[0m 2ms/step - acc: 0.8072 - loss: 0.4445 - val_acc: 0.6875 - val_loss: 0.5574\n",
      "Epoch 27/100\n",
      "\u001b[1m565/565\u001b[0m \u001b[32m━━━━━━━━━━━━━━━━━━━━\u001b[0m\u001b[37m\u001b[0m \u001b[1m1s\u001b[0m 2ms/step - acc: 0.8065 - loss: 0.4431 - val_acc: 0.7316 - val_loss: 0.4995\n",
      "Epoch 28/100\n",
      "\u001b[1m565/565\u001b[0m \u001b[32m━━━━━━━━━━━━━━━━━━━━\u001b[0m\u001b[37m\u001b[0m \u001b[1m1s\u001b[0m 2ms/step - acc: 0.8085 - loss: 0.4393 - val_acc: 0.7815 - val_loss: 0.4289\n",
      "Epoch 29/100\n",
      "\u001b[1m565/565\u001b[0m \u001b[32m━━━━━━━━━━━━━━━━━━━━\u001b[0m\u001b[37m\u001b[0m \u001b[1m1s\u001b[0m 2ms/step - acc: 0.8093 - loss: 0.4390 - val_acc: 0.6868 - val_loss: 0.5624\n",
      "Epoch 30/100\n",
      "\u001b[1m565/565\u001b[0m \u001b[32m━━━━━━━━━━━━━━━━━━━━\u001b[0m\u001b[37m\u001b[0m \u001b[1m1s\u001b[0m 2ms/step - acc: 0.8088 - loss: 0.4391 - val_acc: 0.7269 - val_loss: 0.5078\n",
      "Epoch 31/100\n",
      "\u001b[1m565/565\u001b[0m \u001b[32m━━━━━━━━━━━━━━━━━━━━\u001b[0m\u001b[37m\u001b[0m \u001b[1m1s\u001b[0m 2ms/step - acc: 0.8092 - loss: 0.4372 - val_acc: 0.7461 - val_loss: 0.4800\n",
      "Epoch 32/100\n",
      "\u001b[1m565/565\u001b[0m \u001b[32m━━━━━━━━━━━━━━━━━━━━\u001b[0m\u001b[37m\u001b[0m \u001b[1m1s\u001b[0m 2ms/step - acc: 0.8124 - loss: 0.4354 - val_acc: 0.7302 - val_loss: 0.4962\n",
      "Epoch 33/100\n",
      "\u001b[1m565/565\u001b[0m \u001b[32m━━━━━━━━━━━━━━━━━━━━\u001b[0m\u001b[37m\u001b[0m \u001b[1m1s\u001b[0m 2ms/step - acc: 0.8116 - loss: 0.4360 - val_acc: 0.7225 - val_loss: 0.5038\n",
      "Epoch 34/100\n",
      "\u001b[1m565/565\u001b[0m \u001b[32m━━━━━━━━━━━━━━━━━━━━\u001b[0m\u001b[37m\u001b[0m \u001b[1m1s\u001b[0m 2ms/step - acc: 0.8127 - loss: 0.4345 - val_acc: 0.7368 - val_loss: 0.4982\n",
      "Epoch 35/100\n",
      "\u001b[1m565/565\u001b[0m \u001b[32m━━━━━━━━━━━━━━━━━━━━\u001b[0m\u001b[37m\u001b[0m \u001b[1m1s\u001b[0m 2ms/step - acc: 0.8111 - loss: 0.4339 - val_acc: 0.7541 - val_loss: 0.4655\n",
      "Epoch 36/100\n",
      "\u001b[1m565/565\u001b[0m \u001b[32m━━━━━━━━━━━━━━━━━━━━\u001b[0m\u001b[37m\u001b[0m \u001b[1m1s\u001b[0m 2ms/step - acc: 0.8139 - loss: 0.4307 - val_acc: 0.7050 - val_loss: 0.5382\n",
      "Epoch 37/100\n",
      "\u001b[1m565/565\u001b[0m \u001b[32m━━━━━━━━━━━━━━━━━━━━\u001b[0m\u001b[37m\u001b[0m \u001b[1m1s\u001b[0m 2ms/step - acc: 0.8111 - loss: 0.4356 - val_acc: 0.7177 - val_loss: 0.5174\n",
      "Epoch 38/100\n",
      "\u001b[1m565/565\u001b[0m \u001b[32m━━━━━━━━━━━━━━━━━━━━\u001b[0m\u001b[37m\u001b[0m \u001b[1m1s\u001b[0m 2ms/step - acc: 0.8178 - loss: 0.4281 - val_acc: 0.7097 - val_loss: 0.5314\n",
      "Epoch 39/100\n",
      "\u001b[1m565/565\u001b[0m \u001b[32m━━━━━━━━━━━━━━━━━━━━\u001b[0m\u001b[37m\u001b[0m \u001b[1m1s\u001b[0m 2ms/step - acc: 0.8123 - loss: 0.4323 - val_acc: 0.7353 - val_loss: 0.4940\n",
      "Epoch 40/100\n",
      "\u001b[1m565/565\u001b[0m \u001b[32m━━━━━━━━━━━━━━━━━━━━\u001b[0m\u001b[37m\u001b[0m \u001b[1m1s\u001b[0m 2ms/step - acc: 0.8134 - loss: 0.4312 - val_acc: 0.7614 - val_loss: 0.4621\n",
      "Epoch 41/100\n",
      "\u001b[1m565/565\u001b[0m \u001b[32m━━━━━━━━━━━━━━━━━━━━\u001b[0m\u001b[37m\u001b[0m \u001b[1m1s\u001b[0m 2ms/step - acc: 0.8132 - loss: 0.4313 - val_acc: 0.6818 - val_loss: 0.5618\n",
      "Epoch 42/100\n",
      "\u001b[1m565/565\u001b[0m \u001b[32m━━━━━━━━━━━━━━━━━━━━\u001b[0m\u001b[37m\u001b[0m \u001b[1m1s\u001b[0m 2ms/step - acc: 0.8124 - loss: 0.4325 - val_acc: 0.7422 - val_loss: 0.4860\n",
      "Epoch 43/100\n",
      "\u001b[1m565/565\u001b[0m \u001b[32m━━━━━━━━━━━━━━━━━━━━\u001b[0m\u001b[37m\u001b[0m \u001b[1m1s\u001b[0m 2ms/step - acc: 0.8147 - loss: 0.4299 - val_acc: 0.7496 - val_loss: 0.4781\n",
      "Epoch 44/100\n",
      "\u001b[1m565/565\u001b[0m \u001b[32m━━━━━━━━━━━━━━━━━━━━\u001b[0m\u001b[37m\u001b[0m \u001b[1m1s\u001b[0m 2ms/step - acc: 0.8162 - loss: 0.4305 - val_acc: 0.7177 - val_loss: 0.5170\n",
      "Epoch 45/100\n",
      "\u001b[1m565/565\u001b[0m \u001b[32m━━━━━━━━━━━━━━━━━━━━\u001b[0m\u001b[37m\u001b[0m \u001b[1m1s\u001b[0m 2ms/step - acc: 0.8123 - loss: 0.4321 - val_acc: 0.6899 - val_loss: 0.5522\n",
      "Epoch 46/100\n",
      "\u001b[1m565/565\u001b[0m \u001b[32m━━━━━━━━━━━━━━━━━━━━\u001b[0m\u001b[37m\u001b[0m \u001b[1m1s\u001b[0m 2ms/step - acc: 0.8132 - loss: 0.4308 - val_acc: 0.7371 - val_loss: 0.4918\n",
      "Epoch 47/100\n",
      "\u001b[1m565/565\u001b[0m \u001b[32m━━━━━━━━━━━━━━━━━━━━\u001b[0m\u001b[37m\u001b[0m \u001b[1m1s\u001b[0m 2ms/step - acc: 0.8140 - loss: 0.4281 - val_acc: 0.6911 - val_loss: 0.5525\n",
      "Epoch 48/100\n",
      "\u001b[1m565/565\u001b[0m \u001b[32m━━━━━━━━━━━━━━━━━━━━\u001b[0m\u001b[37m\u001b[0m \u001b[1m1s\u001b[0m 2ms/step - acc: 0.8162 - loss: 0.4289 - val_acc: 0.7197 - val_loss: 0.5153\n",
      "Epoch 49/100\n",
      "\u001b[1m565/565\u001b[0m \u001b[32m━━━━━━━━━━━━━━━━━━━━\u001b[0m\u001b[37m\u001b[0m \u001b[1m1s\u001b[0m 2ms/step - acc: 0.8148 - loss: 0.4309 - val_acc: 0.6990 - val_loss: 0.5477\n",
      "Epoch 50/100\n",
      "\u001b[1m565/565\u001b[0m \u001b[32m━━━━━━━━━━━━━━━━━━━━\u001b[0m\u001b[37m\u001b[0m \u001b[1m1s\u001b[0m 2ms/step - acc: 0.8159 - loss: 0.4291 - val_acc: 0.7866 - val_loss: 0.4223\n",
      "Epoch 51/100\n",
      "\u001b[1m565/565\u001b[0m \u001b[32m━━━━━━━━━━━━━━━━━━━━\u001b[0m\u001b[37m\u001b[0m \u001b[1m1s\u001b[0m 2ms/step - acc: 0.8165 - loss: 0.4257 - val_acc: 0.7493 - val_loss: 0.4806\n",
      "Epoch 52/100\n",
      "\u001b[1m565/565\u001b[0m \u001b[32m━━━━━━━━━━━━━━━━━━━━\u001b[0m\u001b[37m\u001b[0m \u001b[1m1s\u001b[0m 2ms/step - acc: 0.8160 - loss: 0.4248 - val_acc: 0.7549 - val_loss: 0.4724\n",
      "Epoch 53/100\n",
      "\u001b[1m565/565\u001b[0m \u001b[32m━━━━━━━━━━━━━━━━━━━━\u001b[0m\u001b[37m\u001b[0m \u001b[1m1s\u001b[0m 2ms/step - acc: 0.8169 - loss: 0.4255 - val_acc: 0.7572 - val_loss: 0.4722\n",
      "Epoch 54/100\n",
      "\u001b[1m565/565\u001b[0m \u001b[32m━━━━━━━━━━━━━━━━━━━━\u001b[0m\u001b[37m\u001b[0m \u001b[1m1s\u001b[0m 2ms/step - acc: 0.8170 - loss: 0.4282 - val_acc: 0.7573 - val_loss: 0.4701\n",
      "Epoch 55/100\n",
      "\u001b[1m565/565\u001b[0m \u001b[32m━━━━━━━━━━━━━━━━━━━━\u001b[0m\u001b[37m\u001b[0m \u001b[1m1s\u001b[0m 2ms/step - acc: 0.8182 - loss: 0.4237 - val_acc: 0.7608 - val_loss: 0.4652\n",
      "Epoch 56/100\n",
      "\u001b[1m565/565\u001b[0m \u001b[32m━━━━━━━━━━━━━━━━━━━━\u001b[0m\u001b[37m\u001b[0m \u001b[1m1s\u001b[0m 2ms/step - acc: 0.8173 - loss: 0.4264 - val_acc: 0.7251 - val_loss: 0.5094\n",
      "Epoch 57/100\n",
      "\u001b[1m565/565\u001b[0m \u001b[32m━━━━━━━━━━━━━━━━━━━━\u001b[0m\u001b[37m\u001b[0m \u001b[1m1s\u001b[0m 2ms/step - acc: 0.8161 - loss: 0.4261 - val_acc: 0.7510 - val_loss: 0.4762\n",
      "Epoch 58/100\n",
      "\u001b[1m565/565\u001b[0m \u001b[32m━━━━━━━━━━━━━━━━━━━━\u001b[0m\u001b[37m\u001b[0m \u001b[1m1s\u001b[0m 2ms/step - acc: 0.8163 - loss: 0.4272 - val_acc: 0.7748 - val_loss: 0.4462\n",
      "Epoch 59/100\n",
      "\u001b[1m565/565\u001b[0m \u001b[32m━━━━━━━━━━━━━━━━━━━━\u001b[0m\u001b[37m\u001b[0m \u001b[1m1s\u001b[0m 2ms/step - acc: 0.8186 - loss: 0.4221 - val_acc: 0.7511 - val_loss: 0.4739\n",
      "Epoch 60/100\n",
      "\u001b[1m565/565\u001b[0m \u001b[32m━━━━━━━━━━━━━━━━━━━━\u001b[0m\u001b[37m\u001b[0m \u001b[1m1s\u001b[0m 2ms/step - acc: 0.8168 - loss: 0.4262 - val_acc: 0.7289 - val_loss: 0.5024\n",
      "Epoch 61/100\n",
      "\u001b[1m565/565\u001b[0m \u001b[32m━━━━━━━━━━━━━━━━━━━━\u001b[0m\u001b[37m\u001b[0m \u001b[1m1s\u001b[0m 2ms/step - acc: 0.8176 - loss: 0.4241 - val_acc: 0.7591 - val_loss: 0.4698\n",
      "Epoch 62/100\n",
      "\u001b[1m565/565\u001b[0m \u001b[32m━━━━━━━━━━━━━━━━━━━━\u001b[0m\u001b[37m\u001b[0m \u001b[1m1s\u001b[0m 2ms/step - acc: 0.8159 - loss: 0.4271 - val_acc: 0.7329 - val_loss: 0.5031\n",
      "Epoch 63/100\n",
      "\u001b[1m565/565\u001b[0m \u001b[32m━━━━━━━━━━━━━━━━━━━━\u001b[0m\u001b[37m\u001b[0m \u001b[1m1s\u001b[0m 2ms/step - acc: 0.8189 - loss: 0.4246 - val_acc: 0.7784 - val_loss: 0.4378\n",
      "Epoch 64/100\n",
      "\u001b[1m565/565\u001b[0m \u001b[32m━━━━━━━━━━━━━━━━━━━━\u001b[0m\u001b[37m\u001b[0m \u001b[1m1s\u001b[0m 2ms/step - acc: 0.8188 - loss: 0.4253 - val_acc: 0.7827 - val_loss: 0.4343\n",
      "Epoch 65/100\n",
      "\u001b[1m565/565\u001b[0m \u001b[32m━━━━━━━━━━━━━━━━━━━━\u001b[0m\u001b[37m\u001b[0m \u001b[1m1s\u001b[0m 2ms/step - acc: 0.8197 - loss: 0.4230 - val_acc: 0.7622 - val_loss: 0.4636\n",
      "Epoch 66/100\n",
      "\u001b[1m565/565\u001b[0m \u001b[32m━━━━━━━━━━━━━━━━━━━━\u001b[0m\u001b[37m\u001b[0m \u001b[1m1s\u001b[0m 2ms/step - acc: 0.8188 - loss: 0.4219 - val_acc: 0.7491 - val_loss: 0.4810\n",
      "Epoch 67/100\n",
      "\u001b[1m565/565\u001b[0m \u001b[32m━━━━━━━━━━━━━━━━━━━━\u001b[0m\u001b[37m\u001b[0m \u001b[1m1s\u001b[0m 2ms/step - acc: 0.8191 - loss: 0.4217 - val_acc: 0.7730 - val_loss: 0.4417\n",
      "Epoch 68/100\n",
      "\u001b[1m565/565\u001b[0m \u001b[32m━━━━━━━━━━━━━━━━━━━━\u001b[0m\u001b[37m\u001b[0m \u001b[1m1s\u001b[0m 2ms/step - acc: 0.8192 - loss: 0.4223 - val_acc: 0.7864 - val_loss: 0.4256\n",
      "Epoch 69/100\n",
      "\u001b[1m565/565\u001b[0m \u001b[32m━━━━━━━━━━━━━━━━━━━━\u001b[0m\u001b[37m\u001b[0m \u001b[1m1s\u001b[0m 2ms/step - acc: 0.8223 - loss: 0.4179 - val_acc: 0.7271 - val_loss: 0.5077\n",
      "Epoch 70/100\n",
      "\u001b[1m565/565\u001b[0m \u001b[32m━━━━━━━━━━━━━━━━━━━━\u001b[0m\u001b[37m\u001b[0m \u001b[1m1s\u001b[0m 2ms/step - acc: 0.8166 - loss: 0.4226 - val_acc: 0.7556 - val_loss: 0.4698\n",
      "Epoch 71/100\n",
      "\u001b[1m565/565\u001b[0m \u001b[32m━━━━━━━━━━━━━━━━━━━━\u001b[0m\u001b[37m\u001b[0m \u001b[1m1s\u001b[0m 2ms/step - acc: 0.8202 - loss: 0.4218 - val_acc: 0.7611 - val_loss: 0.4626\n",
      "Epoch 72/100\n",
      "\u001b[1m565/565\u001b[0m \u001b[32m━━━━━━━━━━━━━━━━━━━━\u001b[0m\u001b[37m\u001b[0m \u001b[1m1s\u001b[0m 2ms/step - acc: 0.8195 - loss: 0.4217 - val_acc: 0.7272 - val_loss: 0.5056\n",
      "Epoch 73/100\n",
      "\u001b[1m565/565\u001b[0m \u001b[32m━━━━━━━━━━━━━━━━━━━━\u001b[0m\u001b[37m\u001b[0m \u001b[1m1s\u001b[0m 2ms/step - acc: 0.8193 - loss: 0.4209 - val_acc: 0.7295 - val_loss: 0.5079\n",
      "Epoch 74/100\n",
      "\u001b[1m565/565\u001b[0m \u001b[32m━━━━━━━━━━━━━━━━━━━━\u001b[0m\u001b[37m\u001b[0m \u001b[1m1s\u001b[0m 2ms/step - acc: 0.8209 - loss: 0.4208 - val_acc: 0.7361 - val_loss: 0.5011\n",
      "Epoch 75/100\n",
      "\u001b[1m565/565\u001b[0m \u001b[32m━━━━━━━━━━━━━━━━━━━━\u001b[0m\u001b[37m\u001b[0m \u001b[1m1s\u001b[0m 2ms/step - acc: 0.8204 - loss: 0.4229 - val_acc: 0.7256 - val_loss: 0.5073\n",
      "Epoch 76/100\n",
      "\u001b[1m565/565\u001b[0m \u001b[32m━━━━━━━━━━━━━━━━━━━━\u001b[0m\u001b[37m\u001b[0m \u001b[1m1s\u001b[0m 2ms/step - acc: 0.8204 - loss: 0.4217 - val_acc: 0.8063 - val_loss: 0.3991\n",
      "Epoch 77/100\n",
      "\u001b[1m565/565\u001b[0m \u001b[32m━━━━━━━━━━━━━━━━━━━━\u001b[0m\u001b[37m\u001b[0m \u001b[1m1s\u001b[0m 2ms/step - acc: 0.8225 - loss: 0.4181 - val_acc: 0.7753 - val_loss: 0.4439\n",
      "Epoch 78/100\n",
      "\u001b[1m565/565\u001b[0m \u001b[32m━━━━━━━━━━━━━━━━━━━━\u001b[0m\u001b[37m\u001b[0m \u001b[1m1s\u001b[0m 2ms/step - acc: 0.8204 - loss: 0.4212 - val_acc: 0.7718 - val_loss: 0.4490\n",
      "Epoch 79/100\n",
      "\u001b[1m565/565\u001b[0m \u001b[32m━━━━━━━━━━━━━━━━━━━━\u001b[0m\u001b[37m\u001b[0m \u001b[1m1s\u001b[0m 2ms/step - acc: 0.8210 - loss: 0.4204 - val_acc: 0.7858 - val_loss: 0.4277\n",
      "Epoch 80/100\n",
      "\u001b[1m565/565\u001b[0m \u001b[32m━━━━━━━━━━━━━━━━━━━━\u001b[0m\u001b[37m\u001b[0m \u001b[1m1s\u001b[0m 2ms/step - acc: 0.8250 - loss: 0.4144 - val_acc: 0.7702 - val_loss: 0.4458\n",
      "Epoch 81/100\n",
      "\u001b[1m565/565\u001b[0m \u001b[32m━━━━━━━━━━━━━━━━━━━━\u001b[0m\u001b[37m\u001b[0m \u001b[1m1s\u001b[0m 2ms/step - acc: 0.8220 - loss: 0.4186 - val_acc: 0.7838 - val_loss: 0.4294\n",
      "Epoch 82/100\n",
      "\u001b[1m565/565\u001b[0m \u001b[32m━━━━━━━━━━━━━━━━━━━━\u001b[0m\u001b[37m\u001b[0m \u001b[1m1s\u001b[0m 2ms/step - acc: 0.8230 - loss: 0.4163 - val_acc: 0.7751 - val_loss: 0.4397\n",
      "Epoch 83/100\n",
      "\u001b[1m565/565\u001b[0m \u001b[32m━━━━━━━━━━━━━━━━━━━━\u001b[0m\u001b[37m\u001b[0m \u001b[1m1s\u001b[0m 2ms/step - acc: 0.8210 - loss: 0.4198 - val_acc: 0.7643 - val_loss: 0.4589\n",
      "Epoch 84/100\n",
      "\u001b[1m565/565\u001b[0m \u001b[32m━━━━━━━━━━━━━━━━━━━━\u001b[0m\u001b[37m\u001b[0m \u001b[1m1s\u001b[0m 2ms/step - acc: 0.8227 - loss: 0.4175 - val_acc: 0.7601 - val_loss: 0.4632\n",
      "Epoch 85/100\n",
      "\u001b[1m565/565\u001b[0m \u001b[32m━━━━━━━━━━━━━━━━━━━━\u001b[0m\u001b[37m\u001b[0m \u001b[1m1s\u001b[0m 2ms/step - acc: 0.8253 - loss: 0.4147 - val_acc: 0.7790 - val_loss: 0.4357\n",
      "Epoch 86/100\n",
      "\u001b[1m565/565\u001b[0m \u001b[32m━━━━━━━━━━━━━━━━━━━━\u001b[0m\u001b[37m\u001b[0m \u001b[1m1s\u001b[0m 2ms/step - acc: 0.8253 - loss: 0.4132 - val_acc: 0.7897 - val_loss: 0.4154\n",
      "Epoch 87/100\n",
      "\u001b[1m565/565\u001b[0m \u001b[32m━━━━━━━━━━━━━━━━━━━━\u001b[0m\u001b[37m\u001b[0m \u001b[1m1s\u001b[0m 2ms/step - acc: 0.8241 - loss: 0.4184 - val_acc: 0.7739 - val_loss: 0.4440\n",
      "Epoch 88/100\n",
      "\u001b[1m565/565\u001b[0m \u001b[32m━━━━━━━━━━━━━━━━━━━━\u001b[0m\u001b[37m\u001b[0m \u001b[1m1s\u001b[0m 2ms/step - acc: 0.8243 - loss: 0.4148 - val_acc: 0.7816 - val_loss: 0.4302\n",
      "Epoch 89/100\n",
      "\u001b[1m565/565\u001b[0m \u001b[32m━━━━━━━━━━━━━━━━━━━━\u001b[0m\u001b[37m\u001b[0m \u001b[1m1s\u001b[0m 2ms/step - acc: 0.8225 - loss: 0.4161 - val_acc: 0.7835 - val_loss: 0.4292\n",
      "Epoch 90/100\n",
      "\u001b[1m565/565\u001b[0m \u001b[32m━━━━━━━━━━━━━━━━━━━━\u001b[0m\u001b[37m\u001b[0m \u001b[1m1s\u001b[0m 2ms/step - acc: 0.8225 - loss: 0.4173 - val_acc: 0.7927 - val_loss: 0.4126\n",
      "Epoch 91/100\n",
      "\u001b[1m565/565\u001b[0m \u001b[32m━━━━━━━━━━━━━━━━━━━━\u001b[0m\u001b[37m\u001b[0m \u001b[1m1s\u001b[0m 2ms/step - acc: 0.8265 - loss: 0.4136 - val_acc: 0.7507 - val_loss: 0.4781\n",
      "Epoch 92/100\n",
      "\u001b[1m565/565\u001b[0m \u001b[32m━━━━━━━━━━━━━━━━━━━━\u001b[0m\u001b[37m\u001b[0m \u001b[1m1s\u001b[0m 2ms/step - acc: 0.8221 - loss: 0.4170 - val_acc: 0.7411 - val_loss: 0.4906\n",
      "Epoch 93/100\n",
      "\u001b[1m565/565\u001b[0m \u001b[32m━━━━━━━━━━━━━━━━━━━━\u001b[0m\u001b[37m\u001b[0m \u001b[1m1s\u001b[0m 2ms/step - acc: 0.8255 - loss: 0.4140 - val_acc: 0.7671 - val_loss: 0.4531\n",
      "Epoch 94/100\n",
      "\u001b[1m565/565\u001b[0m \u001b[32m━━━━━━━━━━━━━━━━━━━━\u001b[0m\u001b[37m\u001b[0m \u001b[1m1s\u001b[0m 2ms/step - acc: 0.8262 - loss: 0.4134 - val_acc: 0.7680 - val_loss: 0.4523\n",
      "Epoch 95/100\n",
      "\u001b[1m565/565\u001b[0m \u001b[32m━━━━━━━━━━━━━━━━━━━━\u001b[0m\u001b[37m\u001b[0m \u001b[1m1s\u001b[0m 2ms/step - acc: 0.8243 - loss: 0.4153 - val_acc: 0.7491 - val_loss: 0.4781\n",
      "Epoch 96/100\n",
      "\u001b[1m565/565\u001b[0m \u001b[32m━━━━━━━━━━━━━━━━━━━━\u001b[0m\u001b[37m\u001b[0m \u001b[1m1s\u001b[0m 2ms/step - acc: 0.8259 - loss: 0.4128 - val_acc: 0.7851 - val_loss: 0.4222\n",
      "Epoch 97/100\n",
      "\u001b[1m565/565\u001b[0m \u001b[32m━━━━━━━━━━━━━━━━━━━━\u001b[0m\u001b[37m\u001b[0m \u001b[1m1s\u001b[0m 2ms/step - acc: 0.8243 - loss: 0.4134 - val_acc: 0.7718 - val_loss: 0.4420\n",
      "Epoch 98/100\n",
      "\u001b[1m565/565\u001b[0m \u001b[32m━━━━━━━━━━━━━━━━━━━━\u001b[0m\u001b[37m\u001b[0m \u001b[1m1s\u001b[0m 2ms/step - acc: 0.8246 - loss: 0.4141 - val_acc: 0.7758 - val_loss: 0.4360\n",
      "Epoch 99/100\n",
      "\u001b[1m565/565\u001b[0m \u001b[32m━━━━━━━━━━━━━━━━━━━━\u001b[0m\u001b[37m\u001b[0m \u001b[1m1s\u001b[0m 2ms/step - acc: 0.8241 - loss: 0.4147 - val_acc: 0.7501 - val_loss: 0.4786\n",
      "Epoch 100/100\n",
      "\u001b[1m565/565\u001b[0m \u001b[32m━━━━━━━━━━━━━━━━━━━━\u001b[0m\u001b[37m\u001b[0m \u001b[1m1s\u001b[0m 2ms/step - acc: 0.8264 - loss: 0.4132 - val_acc: 0.7809 - val_loss: 0.4283\n"
     ]
    },
    {
     "data": {
      "text/plain": [
       "<keras.src.callbacks.history.History at 0x28743d296d0>"
      ]
     },
     "execution_count": 49,
     "metadata": {},
     "output_type": "execute_result"
    }
   ],
   "source": [
    "model = tf.keras.Sequential()\n",
    "\n",
    "custom_init = CustomInitializer(mean=0.0, stddev=0.05)\n",
    "\n",
    "model.add(tf.keras.layers.Dense(128, activation='elu', kernel_initializer=custom_init))\n",
    "model.add(tf.keras.layers.Dropout(0.2))\n",
    "model.add(tf.keras.layers.Dense(16, activation='elu', kernel_initializer=custom_init))\n",
    "model.add(tf.keras.layers.Dropout(0.2))\n",
    "model.add(tf.keras.layers.Dense(8, activation='elu', kernel_initializer=custom_init))\n",
    "model.add(tf.keras.layers.Dropout(0.2))\n",
    "model.add(tf.keras.layers.Dense(4, activation='elu', kernel_initializer=custom_init))\n",
    "model.add(tf.keras.layers.Dense(1, activation='sigmoid', kernel_initializer=custom_init))\n",
    "\n",
    "model.compile(\n",
    "    optimizer=tf.keras.optimizers.Adam(learning_rate=0.0001),\n",
    "    loss=tf.keras.losses.BinaryCrossentropy(),\n",
    "    metrics=['acc']\n",
    ")\n",
    "\n",
    "model.fit(X_res.to_numpy(), y_res, batch_size=128, epochs=100, validation_split=0.25)"
   ]
  },
  {
   "cell_type": "code",
   "execution_count": 50,
   "id": "6a3c1f62",
   "metadata": {
    "papermill": {
     "duration": 2.21757,
     "end_time": "2024-08-26T15:26:25.923717",
     "exception": false,
     "start_time": "2024-08-26T15:26:23.706147",
     "status": "completed"
    },
    "tags": []
   },
   "outputs": [
    {
     "name": "stdout",
     "output_type": "stream",
     "text": [
      "\u001b[1m551/551\u001b[0m \u001b[32m━━━━━━━━━━━━━━━━━━━━\u001b[0m\u001b[37m\u001b[0m \u001b[1m1s\u001b[0m 1ms/step  \n",
      "              precision    recall  f1-score   support\n",
      "\n",
      "           0       0.91      0.93      0.92     16021\n",
      "           1       0.13      0.12      0.12      1582\n",
      "\n",
      "    accuracy                           0.85     17603\n",
      "   macro avg       0.52      0.52      0.52     17603\n",
      "weighted avg       0.84      0.85      0.85     17603\n",
      "\n"
     ]
    }
   ],
   "source": [
    "model_pred = model.predict(X_test.to_numpy()) > 0.5\n",
    "print(classification_report(y_test, model_pred))"
   ]
  },
  {
   "cell_type": "code",
   "execution_count": 51,
   "id": "2c36e512-56ec-4667-95de-1499152add66",
   "metadata": {},
   "outputs": [
    {
     "name": "stdout",
     "output_type": "stream",
     "text": [
      "\u001b[1m1/1\u001b[0m \u001b[32m━━━━━━━━━━━━━━━━━━━━\u001b[0m\u001b[37m\u001b[0m \u001b[1m0s\u001b[0m 15ms/step\n",
      "Predictions on unseen data: [[ True]\n",
      " [False]]\n"
     ]
    }
   ],
   "source": [
    "unseen_predictions = model.predict(unseen_data.to_numpy()) > 0.5\n",
    "print(\"Predictions on unseen data:\", unseen_predictions)"
   ]
  },
  {
   "cell_type": "code",
   "execution_count": null,
   "id": "32b9153b-eaf4-47c0-8eb7-2b6333daddfe",
   "metadata": {},
   "outputs": [],
   "source": [
    "# Get the first layer of the model\n",
    "first_layer = model.layers[0]\n",
    "\n",
    "# Check if the first layer has weights\n",
    "if len(first_layer.get_weights()) > 0:\n",
    "    # Get weights and biases\n",
    "    weights, biases = first_layer.get_weights()\n",
    "    \n",
    "    # Plot the weights of the first layer (if it's a Dense layer)\n",
    "    if len(weights.shape) == 2:  # Dense layer (weights matrix)\n",
    "        plt.figure(figsize=(10, 5))\n",
    "        plt.imshow(weights, aspect='auto', cmap='viridis')\n",
    "        plt.colorbar()\n",
    "        plt.title(f'Weights of {first_layer.name}')\n",
    "        plt.xlabel('Neurons')\n",
    "        plt.ylabel('Input features')\n",
    "        plt.show()\n",
    "    \n",
    "    # Plot the biases of the first layer (if it's a Dense layer)\n",
    "    if len(biases.shape) == 1:  # Bias vector\n",
    "        plt.figure(figsize=(6, 3))\n",
    "        plt.bar(range(len(biases)), biases)\n",
    "        plt.title(f'Biases of {first_layer.name}')\n",
    "        plt.xlabel('Neurons')\n",
    "        plt.ylabel('Bias Values')\n",
    "        plt.show()"
   ]
  },
  {
   "cell_type": "code",
   "execution_count": null,
   "id": "f65120aa-a60a-4972-91e0-60936638571b",
   "metadata": {
    "scrolled": true
   },
   "outputs": [],
   "source": [
    "from sklearn.base import BaseEstimator, ClassifierMixin\n",
    "\n",
    "class TensorFlowModelWrapper(BaseEstimator, ClassifierMixin):\n",
    "    def __init__(self, model):\n",
    "        self.model = model\n",
    "        self.classes_ = np.array([0, 1])  # Define the target classes explicitly\n",
    "\n",
    "    def fit(self, X, y):\n",
    "        # No training required for wrapper\n",
    "        return self\n",
    "\n",
    "    def predict(self, X):\n",
    "        # Return binary predictions\n",
    "        return (self.model.predict(X.to_numpy()) > 0.5).astype(int).flatten()\n",
    "\n",
    "    def predict_proba(self, X):\n",
    "        # Return class probabilities for compatibility\n",
    "        probabilities = self.model.predict(X.to_numpy())\n",
    "        return np.hstack([1 - probabilities, probabilities])\n",
    "\n",
    "# Wrap the TensorFlow model\n",
    "wrapped_model = TensorFlowModelWrapper(model)\n",
    "\n",
    "# Permutation Importance\n",
    "perm_importance = permutation_importance(\n",
    "    wrapped_model, X_test, y_test, scoring='accuracy', n_repeats=10, random_state=42\n",
    ")\n",
    "\n",
    "# Plot Feature Importance\n",
    "feature_names = X.columns\n",
    "sorted_idx = perm_importance.importances_mean.argsort()\n",
    "\n",
    "plt.figure(figsize=(10, 8))\n",
    "plt.barh(feature_names[sorted_idx], perm_importance.importances_mean[sorted_idx], xerr=perm_importance.importances_std[sorted_idx])\n",
    "plt.xlabel(\"Mean Importance Score\")\n",
    "plt.title(\"Permutation Feature Importance\")\n",
    "plt.show()"
   ]
  },
  {
   "cell_type": "code",
   "execution_count": null,
   "id": "ca6afe3d-175e-4201-9525-f8e487e4e61e",
   "metadata": {},
   "outputs": [],
   "source": []
  }
 ],
 "metadata": {
  "kaggle": {
   "accelerator": "none",
   "dataSources": [
    {
     "datasetId": 3724,
     "sourceId": 5903,
     "sourceType": "datasetVersion"
    }
   ],
   "dockerImageVersionId": 30635,
   "isGpuEnabled": false,
   "isInternetEnabled": false,
   "language": "python",
   "sourceType": "notebook"
  },
  "kernelspec": {
   "display_name": "Python 3 (ipykernel)",
   "language": "python",
   "name": "python3"
  },
  "language_info": {
   "codemirror_mode": {
    "name": "ipython",
    "version": 3
   },
   "file_extension": ".py",
   "mimetype": "text/x-python",
   "name": "python",
   "nbconvert_exporter": "python",
   "pygments_lexer": "ipython3",
   "version": "3.12.4"
  },
  "papermill": {
   "default_parameters": {},
   "duration": 778.710371,
   "end_time": "2024-08-26T15:26:32.144632",
   "environment_variables": {},
   "exception": null,
   "input_path": "__notebook__.ipynb",
   "output_path": "__notebook__.ipynb",
   "parameters": {},
   "start_time": "2024-08-26T15:13:33.434261",
   "version": "2.4.0"
  }
 },
 "nbformat": 4,
 "nbformat_minor": 5
}
